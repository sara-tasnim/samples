{
  "nbformat": 4,
  "nbformat_minor": 0,
  "metadata": {
    "colab": {
      "provenance": []
    },
    "kernelspec": {
      "name": "python3",
      "display_name": "Python 3"
    },
    "language_info": {
      "name": "python"
    }
  },
  "cells": [
    {
      "cell_type": "markdown",
      "source": [
        "**Sentiment Analysis of Customer Reviews on British Airways from Skytrax**\n",
        "\n",
        "\n",
        "\n",
        "1.   In this project, I scrapped customer reviews on British Airways from a website \"Skytrax\".\n",
        "2.   After creating a dataframe using the data, I cleaned removing any duplicates and missing values.\n",
        "3.   In the next step I cleaned and prepocessed the data for analysis.\n",
        "4.   Then I performed sentiment analysis and created graphs."
      ],
      "metadata": {
        "id": "NW6wwZ6RYqhb"
      }
    },
    {
      "cell_type": "code",
      "source": [
        "import requests\n",
        "from bs4 import BeautifulSoup\n",
        "import pandas as pd"
      ],
      "metadata": {
        "id": "fWy7ApNNYpMT"
      },
      "execution_count": 1,
      "outputs": []
    },
    {
      "cell_type": "code",
      "source": [
        "base_url = \"https://www.airlinequality.com/airline-reviews/british-airways\"\n",
        "pages = 10\n",
        "page_size = 100\n",
        "\n",
        "reviews = []\n",
        "\n",
        "for i in range(1, pages + 1):\n",
        "  print(f\"Scraping page {i}\")\n",
        "\n",
        "  url = f\"{base_url}/page/{i}/?sortby=post_date%3ADesc&pagesize={page_size}\"\n",
        "\n",
        "  response = requests.get(url)\n",
        "  content = response.content\n",
        "  parsed_content = BeautifulSoup(content, \"html.parser\")\n",
        "  for para in parsed_content.find_all(\"div\", {\"class\" : \"text_content\"}):\n",
        "    reviews.append(para.get_text())\n",
        "\n",
        "  print(f\" ---> {len(reviews)} total reviews\")"
      ],
      "metadata": {
        "colab": {
          "base_uri": "https://localhost:8080/"
        },
        "id": "If52jsv8PrIZ",
        "outputId": "9d75636f-940a-40c5-919c-a2601de23adc"
      },
      "execution_count": 2,
      "outputs": [
        {
          "output_type": "stream",
          "name": "stdout",
          "text": [
            "Scraping page 1\n",
            " ---> 100 total reviews\n",
            "Scraping page 2\n",
            " ---> 200 total reviews\n",
            "Scraping page 3\n",
            " ---> 300 total reviews\n",
            "Scraping page 4\n",
            " ---> 400 total reviews\n",
            "Scraping page 5\n",
            " ---> 500 total reviews\n",
            "Scraping page 6\n",
            " ---> 600 total reviews\n",
            "Scraping page 7\n",
            " ---> 700 total reviews\n",
            "Scraping page 8\n",
            " ---> 800 total reviews\n",
            "Scraping page 9\n",
            " ---> 900 total reviews\n",
            "Scraping page 10\n",
            " ---> 1000 total reviews\n"
          ]
        }
      ]
    },
    {
      "cell_type": "code",
      "source": [
        "df = pd.DataFrame()\n",
        "df[\"reviews\"] = reviews\n",
        "df.head()"
      ],
      "metadata": {
        "colab": {
          "base_uri": "https://localhost:8080/",
          "height": 206
        },
        "id": "qDIQyPdPY_2p",
        "outputId": "1a7511dd-0ad7-47ea-fd63-01c6db0069d1"
      },
      "execution_count": 3,
      "outputs": [
        {
          "output_type": "execute_result",
          "data": {
            "text/plain": [
              "                                             reviews\n",
              "0  ✅ Trip Verified |  The worst business class ex...\n",
              "1  Not Verified |  Quite possibly the worst busin...\n",
              "2  Not Verified |  I will never be flying with BA...\n",
              "3  ✅ Trip Verified |  On the my trip to Mexico Ci...\n",
              "4  ✅ Trip Verified |  I upgraded at check in to C..."
            ],
            "text/html": [
              "\n",
              "  <div id=\"df-9218654d-fd9f-4121-91fb-1e555b2b75fb\" class=\"colab-df-container\">\n",
              "    <div>\n",
              "<style scoped>\n",
              "    .dataframe tbody tr th:only-of-type {\n",
              "        vertical-align: middle;\n",
              "    }\n",
              "\n",
              "    .dataframe tbody tr th {\n",
              "        vertical-align: top;\n",
              "    }\n",
              "\n",
              "    .dataframe thead th {\n",
              "        text-align: right;\n",
              "    }\n",
              "</style>\n",
              "<table border=\"1\" class=\"dataframe\">\n",
              "  <thead>\n",
              "    <tr style=\"text-align: right;\">\n",
              "      <th></th>\n",
              "      <th>reviews</th>\n",
              "    </tr>\n",
              "  </thead>\n",
              "  <tbody>\n",
              "    <tr>\n",
              "      <th>0</th>\n",
              "      <td>✅ Trip Verified |  The worst business class ex...</td>\n",
              "    </tr>\n",
              "    <tr>\n",
              "      <th>1</th>\n",
              "      <td>Not Verified |  Quite possibly the worst busin...</td>\n",
              "    </tr>\n",
              "    <tr>\n",
              "      <th>2</th>\n",
              "      <td>Not Verified |  I will never be flying with BA...</td>\n",
              "    </tr>\n",
              "    <tr>\n",
              "      <th>3</th>\n",
              "      <td>✅ Trip Verified |  On the my trip to Mexico Ci...</td>\n",
              "    </tr>\n",
              "    <tr>\n",
              "      <th>4</th>\n",
              "      <td>✅ Trip Verified |  I upgraded at check in to C...</td>\n",
              "    </tr>\n",
              "  </tbody>\n",
              "</table>\n",
              "</div>\n",
              "    <div class=\"colab-df-buttons\">\n",
              "\n",
              "  <div class=\"colab-df-container\">\n",
              "    <button class=\"colab-df-convert\" onclick=\"convertToInteractive('df-9218654d-fd9f-4121-91fb-1e555b2b75fb')\"\n",
              "            title=\"Convert this dataframe to an interactive table.\"\n",
              "            style=\"display:none;\">\n",
              "\n",
              "  <svg xmlns=\"http://www.w3.org/2000/svg\" height=\"24px\" viewBox=\"0 -960 960 960\">\n",
              "    <path d=\"M120-120v-720h720v720H120Zm60-500h600v-160H180v160Zm220 220h160v-160H400v160Zm0 220h160v-160H400v160ZM180-400h160v-160H180v160Zm440 0h160v-160H620v160ZM180-180h160v-160H180v160Zm440 0h160v-160H620v160Z\"/>\n",
              "  </svg>\n",
              "    </button>\n",
              "\n",
              "  <style>\n",
              "    .colab-df-container {\n",
              "      display:flex;\n",
              "      gap: 12px;\n",
              "    }\n",
              "\n",
              "    .colab-df-convert {\n",
              "      background-color: #E8F0FE;\n",
              "      border: none;\n",
              "      border-radius: 50%;\n",
              "      cursor: pointer;\n",
              "      display: none;\n",
              "      fill: #1967D2;\n",
              "      height: 32px;\n",
              "      padding: 0 0 0 0;\n",
              "      width: 32px;\n",
              "    }\n",
              "\n",
              "    .colab-df-convert:hover {\n",
              "      background-color: #E2EBFA;\n",
              "      box-shadow: 0px 1px 2px rgba(60, 64, 67, 0.3), 0px 1px 3px 1px rgba(60, 64, 67, 0.15);\n",
              "      fill: #174EA6;\n",
              "    }\n",
              "\n",
              "    .colab-df-buttons div {\n",
              "      margin-bottom: 4px;\n",
              "    }\n",
              "\n",
              "    [theme=dark] .colab-df-convert {\n",
              "      background-color: #3B4455;\n",
              "      fill: #D2E3FC;\n",
              "    }\n",
              "\n",
              "    [theme=dark] .colab-df-convert:hover {\n",
              "      background-color: #434B5C;\n",
              "      box-shadow: 0px 1px 3px 1px rgba(0, 0, 0, 0.15);\n",
              "      filter: drop-shadow(0px 1px 2px rgba(0, 0, 0, 0.3));\n",
              "      fill: #FFFFFF;\n",
              "    }\n",
              "  </style>\n",
              "\n",
              "    <script>\n",
              "      const buttonEl =\n",
              "        document.querySelector('#df-9218654d-fd9f-4121-91fb-1e555b2b75fb button.colab-df-convert');\n",
              "      buttonEl.style.display =\n",
              "        google.colab.kernel.accessAllowed ? 'block' : 'none';\n",
              "\n",
              "      async function convertToInteractive(key) {\n",
              "        const element = document.querySelector('#df-9218654d-fd9f-4121-91fb-1e555b2b75fb');\n",
              "        const dataTable =\n",
              "          await google.colab.kernel.invokeFunction('convertToInteractive',\n",
              "                                                    [key], {});\n",
              "        if (!dataTable) return;\n",
              "\n",
              "        const docLinkHtml = 'Like what you see? Visit the ' +\n",
              "          '<a target=\"_blank\" href=https://colab.research.google.com/notebooks/data_table.ipynb>data table notebook</a>'\n",
              "          + ' to learn more about interactive tables.';\n",
              "        element.innerHTML = '';\n",
              "        dataTable['output_type'] = 'display_data';\n",
              "        await google.colab.output.renderOutput(dataTable, element);\n",
              "        const docLink = document.createElement('div');\n",
              "        docLink.innerHTML = docLinkHtml;\n",
              "        element.appendChild(docLink);\n",
              "      }\n",
              "    </script>\n",
              "  </div>\n",
              "\n",
              "\n",
              "<div id=\"df-2f7d7e7a-ee30-40f9-95a6-66c5eda5a3cc\">\n",
              "  <button class=\"colab-df-quickchart\" onclick=\"quickchart('df-2f7d7e7a-ee30-40f9-95a6-66c5eda5a3cc')\"\n",
              "            title=\"Suggest charts\"\n",
              "            style=\"display:none;\">\n",
              "\n",
              "<svg xmlns=\"http://www.w3.org/2000/svg\" height=\"24px\"viewBox=\"0 0 24 24\"\n",
              "     width=\"24px\">\n",
              "    <g>\n",
              "        <path d=\"M19 3H5c-1.1 0-2 .9-2 2v14c0 1.1.9 2 2 2h14c1.1 0 2-.9 2-2V5c0-1.1-.9-2-2-2zM9 17H7v-7h2v7zm4 0h-2V7h2v10zm4 0h-2v-4h2v4z\"/>\n",
              "    </g>\n",
              "</svg>\n",
              "  </button>\n",
              "\n",
              "<style>\n",
              "  .colab-df-quickchart {\n",
              "      --bg-color: #E8F0FE;\n",
              "      --fill-color: #1967D2;\n",
              "      --hover-bg-color: #E2EBFA;\n",
              "      --hover-fill-color: #174EA6;\n",
              "      --disabled-fill-color: #AAA;\n",
              "      --disabled-bg-color: #DDD;\n",
              "  }\n",
              "\n",
              "  [theme=dark] .colab-df-quickchart {\n",
              "      --bg-color: #3B4455;\n",
              "      --fill-color: #D2E3FC;\n",
              "      --hover-bg-color: #434B5C;\n",
              "      --hover-fill-color: #FFFFFF;\n",
              "      --disabled-bg-color: #3B4455;\n",
              "      --disabled-fill-color: #666;\n",
              "  }\n",
              "\n",
              "  .colab-df-quickchart {\n",
              "    background-color: var(--bg-color);\n",
              "    border: none;\n",
              "    border-radius: 50%;\n",
              "    cursor: pointer;\n",
              "    display: none;\n",
              "    fill: var(--fill-color);\n",
              "    height: 32px;\n",
              "    padding: 0;\n",
              "    width: 32px;\n",
              "  }\n",
              "\n",
              "  .colab-df-quickchart:hover {\n",
              "    background-color: var(--hover-bg-color);\n",
              "    box-shadow: 0 1px 2px rgba(60, 64, 67, 0.3), 0 1px 3px 1px rgba(60, 64, 67, 0.15);\n",
              "    fill: var(--button-hover-fill-color);\n",
              "  }\n",
              "\n",
              "  .colab-df-quickchart-complete:disabled,\n",
              "  .colab-df-quickchart-complete:disabled:hover {\n",
              "    background-color: var(--disabled-bg-color);\n",
              "    fill: var(--disabled-fill-color);\n",
              "    box-shadow: none;\n",
              "  }\n",
              "\n",
              "  .colab-df-spinner {\n",
              "    border: 2px solid var(--fill-color);\n",
              "    border-color: transparent;\n",
              "    border-bottom-color: var(--fill-color);\n",
              "    animation:\n",
              "      spin 1s steps(1) infinite;\n",
              "  }\n",
              "\n",
              "  @keyframes spin {\n",
              "    0% {\n",
              "      border-color: transparent;\n",
              "      border-bottom-color: var(--fill-color);\n",
              "      border-left-color: var(--fill-color);\n",
              "    }\n",
              "    20% {\n",
              "      border-color: transparent;\n",
              "      border-left-color: var(--fill-color);\n",
              "      border-top-color: var(--fill-color);\n",
              "    }\n",
              "    30% {\n",
              "      border-color: transparent;\n",
              "      border-left-color: var(--fill-color);\n",
              "      border-top-color: var(--fill-color);\n",
              "      border-right-color: var(--fill-color);\n",
              "    }\n",
              "    40% {\n",
              "      border-color: transparent;\n",
              "      border-right-color: var(--fill-color);\n",
              "      border-top-color: var(--fill-color);\n",
              "    }\n",
              "    60% {\n",
              "      border-color: transparent;\n",
              "      border-right-color: var(--fill-color);\n",
              "    }\n",
              "    80% {\n",
              "      border-color: transparent;\n",
              "      border-right-color: var(--fill-color);\n",
              "      border-bottom-color: var(--fill-color);\n",
              "    }\n",
              "    90% {\n",
              "      border-color: transparent;\n",
              "      border-bottom-color: var(--fill-color);\n",
              "    }\n",
              "  }\n",
              "</style>\n",
              "\n",
              "  <script>\n",
              "    async function quickchart(key) {\n",
              "      const quickchartButtonEl =\n",
              "        document.querySelector('#' + key + ' button');\n",
              "      quickchartButtonEl.disabled = true;  // To prevent multiple clicks.\n",
              "      quickchartButtonEl.classList.add('colab-df-spinner');\n",
              "      try {\n",
              "        const charts = await google.colab.kernel.invokeFunction(\n",
              "            'suggestCharts', [key], {});\n",
              "      } catch (error) {\n",
              "        console.error('Error during call to suggestCharts:', error);\n",
              "      }\n",
              "      quickchartButtonEl.classList.remove('colab-df-spinner');\n",
              "      quickchartButtonEl.classList.add('colab-df-quickchart-complete');\n",
              "    }\n",
              "    (() => {\n",
              "      let quickchartButtonEl =\n",
              "        document.querySelector('#df-2f7d7e7a-ee30-40f9-95a6-66c5eda5a3cc button');\n",
              "      quickchartButtonEl.style.display =\n",
              "        google.colab.kernel.accessAllowed ? 'block' : 'none';\n",
              "    })();\n",
              "  </script>\n",
              "</div>\n",
              "\n",
              "    </div>\n",
              "  </div>\n"
            ],
            "application/vnd.google.colaboratory.intrinsic+json": {
              "type": "dataframe",
              "variable_name": "df",
              "summary": "{\n  \"name\": \"df\",\n  \"rows\": 1000,\n  \"fields\": [\n    {\n      \"column\": \"reviews\",\n      \"properties\": {\n        \"dtype\": \"string\",\n        \"num_unique_values\": 1000,\n        \"samples\": [\n          \"\\u2705 Trip Verified |  I recently had the unfortunate privilege of travelling on British Airways from Detroit to Bangalore and back. Given that it is a long and arduous journey with multiple layovers, I decided to spend extra and get a business class ticket. I was quickly dissuaded of any misconception that I was special because I spent that extra money or was in Business class. From shoddy service to rudeness and insolence from ground staff, I experienced nothing but frustration and insecurity throughout my journeys. The trump was being stranded in London having missed my connection and spending close to 3 hours to get to the front of the counter to rebook my flight. Being a business class traveller had no bearing as we were all told to stand in one gigantic line and wait our turn. Some special passengers were escorted to the Club World check in. When we asked the lady, she told us to continue standing where we were and she would come back to get us when the counter freed up. Needless to say it never did. Finally got my turn with no extra help from any of the ground staff that was running around in a frenzy and was rebooked. So I come back to the question: Can big corporations lie with no accountability? Why would I spend my hard-earned money on something that gave me nothing extra? Shame on you British Airways for your complete disregard for your passengers. Stop your lying or update your promises!\",\n          \"\\u2705 Trip Verified |  London Heathrow to Stockholm. Business class short-haul is what it is. Seats are the same as in economy but with no one sitting in the middle seat. But you get served drinks and food. Proper gin for the G&T and good food.\",\n          \"\\u2705 Trip Verified |  London Heathrow to Miami. Flying the Boeing 747-400. Unfortunately BA hasn't done much work on their first class on these aircraft. Seats are flat bed but you have that wedge in the front that even for my 6'1\\\" makes the beds small. And since it's so narrow your feet get clamped if you sleep on your side. These seats are Business class on for example Qatar Airways. And I still think a first class ticket should include WiFi! But as always the service excel and the crew are so friendly and helpful. Meals are impeccable.\"\n        ],\n        \"semantic_type\": \"\",\n        \"description\": \"\"\n      }\n    }\n  ]\n}"
            }
          },
          "metadata": {},
          "execution_count": 3
        }
      ]
    },
    {
      "cell_type": "code",
      "source": [
        "df.to_csv(\"BA_reviews.csv\")"
      ],
      "metadata": {
        "id": "V9F9rsVvZV7e"
      },
      "execution_count": 4,
      "outputs": []
    },
    {
      "cell_type": "code",
      "source": [
        "import os"
      ],
      "metadata": {
        "id": "vKDxl0HR0Dmo"
      },
      "execution_count": 5,
      "outputs": []
    },
    {
      "cell_type": "code",
      "source": [
        "folder_path = 'data'\n",
        "\n",
        "if not os.path.exists(folder_path):\n",
        "    os.makedirs(folder_path)\n",
        "\n",
        "file_path = os.path.join(folder_path, 'BA_reviews.csv')\n",
        "\n",
        "df.to_csv(file_path, index=False)\n",
        "\n",
        "print(f\"File saved at: {file_path}\")"
      ],
      "metadata": {
        "colab": {
          "base_uri": "https://localhost:8080/"
        },
        "id": "a22UyDYn1ASg",
        "outputId": "30df222d-a8da-476b-a412-a3e38dd32e8d"
      },
      "execution_count": 6,
      "outputs": [
        {
          "output_type": "stream",
          "name": "stdout",
          "text": [
            "File saved at: data/BA_reviews.csv\n"
          ]
        }
      ]
    },
    {
      "cell_type": "markdown",
      "source": [
        "Data Cleaning"
      ],
      "metadata": {
        "id": "fsq--8xbZf3T"
      }
    },
    {
      "cell_type": "code",
      "source": [
        "df.drop_duplicates(inplace =True)"
      ],
      "metadata": {
        "id": "JTDXPgDB2SG5"
      },
      "execution_count": 7,
      "outputs": []
    },
    {
      "cell_type": "code",
      "source": [
        "df.dropna(inplace=True)"
      ],
      "metadata": {
        "id": "2IZHvhHb2_aS"
      },
      "execution_count": 8,
      "outputs": []
    },
    {
      "cell_type": "code",
      "source": [
        "df.reset_index(drop=True, inplace=True)"
      ],
      "metadata": {
        "id": "IoQ91AB-3DsO"
      },
      "execution_count": 9,
      "outputs": []
    },
    {
      "cell_type": "markdown",
      "source": [
        "Text Preprocessing"
      ],
      "metadata": {
        "id": "0X_tvTZwZo1P"
      }
    },
    {
      "cell_type": "code",
      "source": [
        "import nltk\n",
        "from nltk.corpus import stopwords\n",
        "from nltk.tokenize import word_tokenize\n",
        "from nltk.stem import WordNetLemmatizer"
      ],
      "metadata": {
        "id": "MrU3P9Ju3LAb"
      },
      "execution_count": 10,
      "outputs": []
    },
    {
      "cell_type": "code",
      "source": [
        "nltk.download('punkt')\n",
        "nltk.download('stopwords')\n",
        "nltk.download('wordnet')"
      ],
      "metadata": {
        "colab": {
          "base_uri": "https://localhost:8080/"
        },
        "id": "VaJYnEHP3T3U",
        "outputId": "7ab5069e-026e-4616-8ef4-3aa6c822e352"
      },
      "execution_count": 11,
      "outputs": [
        {
          "output_type": "stream",
          "name": "stderr",
          "text": [
            "[nltk_data] Downloading package punkt to /root/nltk_data...\n",
            "[nltk_data]   Unzipping tokenizers/punkt.zip.\n",
            "[nltk_data] Downloading package stopwords to /root/nltk_data...\n",
            "[nltk_data]   Unzipping corpora/stopwords.zip.\n",
            "[nltk_data] Downloading package wordnet to /root/nltk_data...\n"
          ]
        },
        {
          "output_type": "execute_result",
          "data": {
            "text/plain": [
              "True"
            ]
          },
          "metadata": {},
          "execution_count": 11
        }
      ]
    },
    {
      "cell_type": "code",
      "source": [
        "stop_words = set(stopwords.words('english'))\n",
        "lemmatizer = WordNetLemmatizer()"
      ],
      "metadata": {
        "id": "PVSyLH333ZZB"
      },
      "execution_count": 12,
      "outputs": []
    },
    {
      "cell_type": "code",
      "source": [
        "from nltk import word_tokenize\n",
        "import pandas as pd\n",
        "\n",
        "def preprocess_reviews(reviews):\n",
        "    words = word_tokenize(reviews)\n",
        "    clean_words = [lemmatizer.lemmatize(word.lower()) for word in words if word.isalpha() and word.lower() not in stop_words]\n",
        "    return ' '.join(clean_words)\n",
        "\n",
        "# Apply preprocessing to the reviews column\n",
        "df['clean_reviews'] = df['reviews'].apply(preprocess_reviews)"
      ],
      "metadata": {
        "id": "1r3VY8Ur3s8m"
      },
      "execution_count": 13,
      "outputs": []
    },
    {
      "cell_type": "markdown",
      "source": [
        "Analysis"
      ],
      "metadata": {
        "id": "xY7I-BWpZv0Z"
      }
    },
    {
      "cell_type": "code",
      "source": [
        "#sentiment analysis\n",
        "from textblob import TextBlob"
      ],
      "metadata": {
        "id": "_3jt2_Zv6T9q"
      },
      "execution_count": 14,
      "outputs": []
    },
    {
      "cell_type": "code",
      "source": [
        "def analyze_sentiment(reviews):\n",
        "  analysis = TextBlob(reviews)\n",
        "  return analysis.sentiment.polarity"
      ],
      "metadata": {
        "id": "q3XQinwy-mXN"
      },
      "execution_count": 15,
      "outputs": []
    },
    {
      "cell_type": "code",
      "source": [
        "df['sentiment_score'] = df['reviews'].apply(analyze_sentiment)"
      ],
      "metadata": {
        "id": "6SPAHcKk-1G9"
      },
      "execution_count": 16,
      "outputs": []
    },
    {
      "cell_type": "code",
      "source": [
        "df.head()"
      ],
      "metadata": {
        "colab": {
          "base_uri": "https://localhost:8080/",
          "height": 206
        },
        "id": "QZg6n8wz_DAy",
        "outputId": "325be1ed-9049-4c3b-a1fb-77ca29328fad"
      },
      "execution_count": 17,
      "outputs": [
        {
          "output_type": "execute_result",
          "data": {
            "text/plain": [
              "                                             reviews  \\\n",
              "0  ✅ Trip Verified |  The worst business class ex...   \n",
              "1  Not Verified |  Quite possibly the worst busin...   \n",
              "2  Not Verified |  I will never be flying with BA...   \n",
              "3  ✅ Trip Verified |  On the my trip to Mexico Ci...   \n",
              "4  ✅ Trip Verified |  I upgraded at check in to C...   \n",
              "\n",
              "                                       clean_reviews  sentiment_score  \n",
              "0  trip verified worst business class experience ...        -0.019097  \n",
              "1  verified quite possibly worst business class e...        -0.021667  \n",
              "2  verified never flying ba first last flying sin...         0.106034  \n",
              "3  trip verified trip mexico city opportunity exp...         0.141721  \n",
              "4  trip verified upgraded check club europe seat ...         0.694231  "
            ],
            "text/html": [
              "\n",
              "  <div id=\"df-f11661b7-6144-4a2f-bb6d-4fa383d1375b\" class=\"colab-df-container\">\n",
              "    <div>\n",
              "<style scoped>\n",
              "    .dataframe tbody tr th:only-of-type {\n",
              "        vertical-align: middle;\n",
              "    }\n",
              "\n",
              "    .dataframe tbody tr th {\n",
              "        vertical-align: top;\n",
              "    }\n",
              "\n",
              "    .dataframe thead th {\n",
              "        text-align: right;\n",
              "    }\n",
              "</style>\n",
              "<table border=\"1\" class=\"dataframe\">\n",
              "  <thead>\n",
              "    <tr style=\"text-align: right;\">\n",
              "      <th></th>\n",
              "      <th>reviews</th>\n",
              "      <th>clean_reviews</th>\n",
              "      <th>sentiment_score</th>\n",
              "    </tr>\n",
              "  </thead>\n",
              "  <tbody>\n",
              "    <tr>\n",
              "      <th>0</th>\n",
              "      <td>✅ Trip Verified |  The worst business class ex...</td>\n",
              "      <td>trip verified worst business class experience ...</td>\n",
              "      <td>-0.019097</td>\n",
              "    </tr>\n",
              "    <tr>\n",
              "      <th>1</th>\n",
              "      <td>Not Verified |  Quite possibly the worst busin...</td>\n",
              "      <td>verified quite possibly worst business class e...</td>\n",
              "      <td>-0.021667</td>\n",
              "    </tr>\n",
              "    <tr>\n",
              "      <th>2</th>\n",
              "      <td>Not Verified |  I will never be flying with BA...</td>\n",
              "      <td>verified never flying ba first last flying sin...</td>\n",
              "      <td>0.106034</td>\n",
              "    </tr>\n",
              "    <tr>\n",
              "      <th>3</th>\n",
              "      <td>✅ Trip Verified |  On the my trip to Mexico Ci...</td>\n",
              "      <td>trip verified trip mexico city opportunity exp...</td>\n",
              "      <td>0.141721</td>\n",
              "    </tr>\n",
              "    <tr>\n",
              "      <th>4</th>\n",
              "      <td>✅ Trip Verified |  I upgraded at check in to C...</td>\n",
              "      <td>trip verified upgraded check club europe seat ...</td>\n",
              "      <td>0.694231</td>\n",
              "    </tr>\n",
              "  </tbody>\n",
              "</table>\n",
              "</div>\n",
              "    <div class=\"colab-df-buttons\">\n",
              "\n",
              "  <div class=\"colab-df-container\">\n",
              "    <button class=\"colab-df-convert\" onclick=\"convertToInteractive('df-f11661b7-6144-4a2f-bb6d-4fa383d1375b')\"\n",
              "            title=\"Convert this dataframe to an interactive table.\"\n",
              "            style=\"display:none;\">\n",
              "\n",
              "  <svg xmlns=\"http://www.w3.org/2000/svg\" height=\"24px\" viewBox=\"0 -960 960 960\">\n",
              "    <path d=\"M120-120v-720h720v720H120Zm60-500h600v-160H180v160Zm220 220h160v-160H400v160Zm0 220h160v-160H400v160ZM180-400h160v-160H180v160Zm440 0h160v-160H620v160ZM180-180h160v-160H180v160Zm440 0h160v-160H620v160Z\"/>\n",
              "  </svg>\n",
              "    </button>\n",
              "\n",
              "  <style>\n",
              "    .colab-df-container {\n",
              "      display:flex;\n",
              "      gap: 12px;\n",
              "    }\n",
              "\n",
              "    .colab-df-convert {\n",
              "      background-color: #E8F0FE;\n",
              "      border: none;\n",
              "      border-radius: 50%;\n",
              "      cursor: pointer;\n",
              "      display: none;\n",
              "      fill: #1967D2;\n",
              "      height: 32px;\n",
              "      padding: 0 0 0 0;\n",
              "      width: 32px;\n",
              "    }\n",
              "\n",
              "    .colab-df-convert:hover {\n",
              "      background-color: #E2EBFA;\n",
              "      box-shadow: 0px 1px 2px rgba(60, 64, 67, 0.3), 0px 1px 3px 1px rgba(60, 64, 67, 0.15);\n",
              "      fill: #174EA6;\n",
              "    }\n",
              "\n",
              "    .colab-df-buttons div {\n",
              "      margin-bottom: 4px;\n",
              "    }\n",
              "\n",
              "    [theme=dark] .colab-df-convert {\n",
              "      background-color: #3B4455;\n",
              "      fill: #D2E3FC;\n",
              "    }\n",
              "\n",
              "    [theme=dark] .colab-df-convert:hover {\n",
              "      background-color: #434B5C;\n",
              "      box-shadow: 0px 1px 3px 1px rgba(0, 0, 0, 0.15);\n",
              "      filter: drop-shadow(0px 1px 2px rgba(0, 0, 0, 0.3));\n",
              "      fill: #FFFFFF;\n",
              "    }\n",
              "  </style>\n",
              "\n",
              "    <script>\n",
              "      const buttonEl =\n",
              "        document.querySelector('#df-f11661b7-6144-4a2f-bb6d-4fa383d1375b button.colab-df-convert');\n",
              "      buttonEl.style.display =\n",
              "        google.colab.kernel.accessAllowed ? 'block' : 'none';\n",
              "\n",
              "      async function convertToInteractive(key) {\n",
              "        const element = document.querySelector('#df-f11661b7-6144-4a2f-bb6d-4fa383d1375b');\n",
              "        const dataTable =\n",
              "          await google.colab.kernel.invokeFunction('convertToInteractive',\n",
              "                                                    [key], {});\n",
              "        if (!dataTable) return;\n",
              "\n",
              "        const docLinkHtml = 'Like what you see? Visit the ' +\n",
              "          '<a target=\"_blank\" href=https://colab.research.google.com/notebooks/data_table.ipynb>data table notebook</a>'\n",
              "          + ' to learn more about interactive tables.';\n",
              "        element.innerHTML = '';\n",
              "        dataTable['output_type'] = 'display_data';\n",
              "        await google.colab.output.renderOutput(dataTable, element);\n",
              "        const docLink = document.createElement('div');\n",
              "        docLink.innerHTML = docLinkHtml;\n",
              "        element.appendChild(docLink);\n",
              "      }\n",
              "    </script>\n",
              "  </div>\n",
              "\n",
              "\n",
              "<div id=\"df-12e49b87-1919-46bd-8e6b-f85e82f1b830\">\n",
              "  <button class=\"colab-df-quickchart\" onclick=\"quickchart('df-12e49b87-1919-46bd-8e6b-f85e82f1b830')\"\n",
              "            title=\"Suggest charts\"\n",
              "            style=\"display:none;\">\n",
              "\n",
              "<svg xmlns=\"http://www.w3.org/2000/svg\" height=\"24px\"viewBox=\"0 0 24 24\"\n",
              "     width=\"24px\">\n",
              "    <g>\n",
              "        <path d=\"M19 3H5c-1.1 0-2 .9-2 2v14c0 1.1.9 2 2 2h14c1.1 0 2-.9 2-2V5c0-1.1-.9-2-2-2zM9 17H7v-7h2v7zm4 0h-2V7h2v10zm4 0h-2v-4h2v4z\"/>\n",
              "    </g>\n",
              "</svg>\n",
              "  </button>\n",
              "\n",
              "<style>\n",
              "  .colab-df-quickchart {\n",
              "      --bg-color: #E8F0FE;\n",
              "      --fill-color: #1967D2;\n",
              "      --hover-bg-color: #E2EBFA;\n",
              "      --hover-fill-color: #174EA6;\n",
              "      --disabled-fill-color: #AAA;\n",
              "      --disabled-bg-color: #DDD;\n",
              "  }\n",
              "\n",
              "  [theme=dark] .colab-df-quickchart {\n",
              "      --bg-color: #3B4455;\n",
              "      --fill-color: #D2E3FC;\n",
              "      --hover-bg-color: #434B5C;\n",
              "      --hover-fill-color: #FFFFFF;\n",
              "      --disabled-bg-color: #3B4455;\n",
              "      --disabled-fill-color: #666;\n",
              "  }\n",
              "\n",
              "  .colab-df-quickchart {\n",
              "    background-color: var(--bg-color);\n",
              "    border: none;\n",
              "    border-radius: 50%;\n",
              "    cursor: pointer;\n",
              "    display: none;\n",
              "    fill: var(--fill-color);\n",
              "    height: 32px;\n",
              "    padding: 0;\n",
              "    width: 32px;\n",
              "  }\n",
              "\n",
              "  .colab-df-quickchart:hover {\n",
              "    background-color: var(--hover-bg-color);\n",
              "    box-shadow: 0 1px 2px rgba(60, 64, 67, 0.3), 0 1px 3px 1px rgba(60, 64, 67, 0.15);\n",
              "    fill: var(--button-hover-fill-color);\n",
              "  }\n",
              "\n",
              "  .colab-df-quickchart-complete:disabled,\n",
              "  .colab-df-quickchart-complete:disabled:hover {\n",
              "    background-color: var(--disabled-bg-color);\n",
              "    fill: var(--disabled-fill-color);\n",
              "    box-shadow: none;\n",
              "  }\n",
              "\n",
              "  .colab-df-spinner {\n",
              "    border: 2px solid var(--fill-color);\n",
              "    border-color: transparent;\n",
              "    border-bottom-color: var(--fill-color);\n",
              "    animation:\n",
              "      spin 1s steps(1) infinite;\n",
              "  }\n",
              "\n",
              "  @keyframes spin {\n",
              "    0% {\n",
              "      border-color: transparent;\n",
              "      border-bottom-color: var(--fill-color);\n",
              "      border-left-color: var(--fill-color);\n",
              "    }\n",
              "    20% {\n",
              "      border-color: transparent;\n",
              "      border-left-color: var(--fill-color);\n",
              "      border-top-color: var(--fill-color);\n",
              "    }\n",
              "    30% {\n",
              "      border-color: transparent;\n",
              "      border-left-color: var(--fill-color);\n",
              "      border-top-color: var(--fill-color);\n",
              "      border-right-color: var(--fill-color);\n",
              "    }\n",
              "    40% {\n",
              "      border-color: transparent;\n",
              "      border-right-color: var(--fill-color);\n",
              "      border-top-color: var(--fill-color);\n",
              "    }\n",
              "    60% {\n",
              "      border-color: transparent;\n",
              "      border-right-color: var(--fill-color);\n",
              "    }\n",
              "    80% {\n",
              "      border-color: transparent;\n",
              "      border-right-color: var(--fill-color);\n",
              "      border-bottom-color: var(--fill-color);\n",
              "    }\n",
              "    90% {\n",
              "      border-color: transparent;\n",
              "      border-bottom-color: var(--fill-color);\n",
              "    }\n",
              "  }\n",
              "</style>\n",
              "\n",
              "  <script>\n",
              "    async function quickchart(key) {\n",
              "      const quickchartButtonEl =\n",
              "        document.querySelector('#' + key + ' button');\n",
              "      quickchartButtonEl.disabled = true;  // To prevent multiple clicks.\n",
              "      quickchartButtonEl.classList.add('colab-df-spinner');\n",
              "      try {\n",
              "        const charts = await google.colab.kernel.invokeFunction(\n",
              "            'suggestCharts', [key], {});\n",
              "      } catch (error) {\n",
              "        console.error('Error during call to suggestCharts:', error);\n",
              "      }\n",
              "      quickchartButtonEl.classList.remove('colab-df-spinner');\n",
              "      quickchartButtonEl.classList.add('colab-df-quickchart-complete');\n",
              "    }\n",
              "    (() => {\n",
              "      let quickchartButtonEl =\n",
              "        document.querySelector('#df-12e49b87-1919-46bd-8e6b-f85e82f1b830 button');\n",
              "      quickchartButtonEl.style.display =\n",
              "        google.colab.kernel.accessAllowed ? 'block' : 'none';\n",
              "    })();\n",
              "  </script>\n",
              "</div>\n",
              "\n",
              "    </div>\n",
              "  </div>\n"
            ],
            "application/vnd.google.colaboratory.intrinsic+json": {
              "type": "dataframe",
              "variable_name": "df",
              "summary": "{\n  \"name\": \"df\",\n  \"rows\": 1000,\n  \"fields\": [\n    {\n      \"column\": \"reviews\",\n      \"properties\": {\n        \"dtype\": \"string\",\n        \"num_unique_values\": 1000,\n        \"samples\": [\n          \"\\u2705 Trip Verified |  I recently had the unfortunate privilege of travelling on British Airways from Detroit to Bangalore and back. Given that it is a long and arduous journey with multiple layovers, I decided to spend extra and get a business class ticket. I was quickly dissuaded of any misconception that I was special because I spent that extra money or was in Business class. From shoddy service to rudeness and insolence from ground staff, I experienced nothing but frustration and insecurity throughout my journeys. The trump was being stranded in London having missed my connection and spending close to 3 hours to get to the front of the counter to rebook my flight. Being a business class traveller had no bearing as we were all told to stand in one gigantic line and wait our turn. Some special passengers were escorted to the Club World check in. When we asked the lady, she told us to continue standing where we were and she would come back to get us when the counter freed up. Needless to say it never did. Finally got my turn with no extra help from any of the ground staff that was running around in a frenzy and was rebooked. So I come back to the question: Can big corporations lie with no accountability? Why would I spend my hard-earned money on something that gave me nothing extra? Shame on you British Airways for your complete disregard for your passengers. Stop your lying or update your promises!\",\n          \"\\u2705 Trip Verified |  London Heathrow to Stockholm. Business class short-haul is what it is. Seats are the same as in economy but with no one sitting in the middle seat. But you get served drinks and food. Proper gin for the G&T and good food.\",\n          \"\\u2705 Trip Verified |  London Heathrow to Miami. Flying the Boeing 747-400. Unfortunately BA hasn't done much work on their first class on these aircraft. Seats are flat bed but you have that wedge in the front that even for my 6'1\\\" makes the beds small. And since it's so narrow your feet get clamped if you sleep on your side. These seats are Business class on for example Qatar Airways. And I still think a first class ticket should include WiFi! But as always the service excel and the crew are so friendly and helpful. Meals are impeccable.\"\n        ],\n        \"semantic_type\": \"\",\n        \"description\": \"\"\n      }\n    },\n    {\n      \"column\": \"clean_reviews\",\n      \"properties\": {\n        \"dtype\": \"string\",\n        \"num_unique_values\": 1000,\n        \"samples\": [\n          \"trip verified recently unfortunate privilege travelling british airway detroit bangalore back given long arduous journey multiple layover decided spend extra get business class ticket quickly dissuaded misconception special spent extra money business class shoddy service rudeness insolence ground staff experienced nothing frustration insecurity throughout journey trump stranded london missed connection spending close hour get front counter rebook flight business class traveller bearing told stand one gigantic line wait turn special passenger escorted club world check asked lady told u continue standing would come back get u counter freed needle say never finally got turn extra help ground staff running around frenzy rebooked come back question big corporation lie accountability would spend money something gave nothing extra shame british airway complete disregard passenger stop lying update promise\",\n          \"trip verified london heathrow stockholm business class seat economy one sitting middle seat get served drink food proper gin g good food\",\n          \"trip verified london heathrow miami flying boeing unfortunately ba done much work first class aircraft seat flat bed wedge front even make bed small since narrow foot get clamped sleep side seat business class example qatar airway still think first class ticket include wifi always service excel crew friendly helpful meal impeccable\"\n        ],\n        \"semantic_type\": \"\",\n        \"description\": \"\"\n      }\n    },\n    {\n      \"column\": \"sentiment_score\",\n      \"properties\": {\n        \"dtype\": \"number\",\n        \"std\": 0.1997119581861927,\n        \"min\": -0.7666666666666666,\n        \"max\": 0.7150000000000001,\n        \"num_unique_values\": 951,\n        \"samples\": [\n          -0.09259259259259259,\n          0.4,\n          0.03333333333333334\n        ],\n        \"semantic_type\": \"\",\n        \"description\": \"\"\n      }\n    }\n  ]\n}"
            }
          },
          "metadata": {},
          "execution_count": 17
        }
      ]
    },
    {
      "cell_type": "code",
      "source": [
        "#topic modeling\n",
        "import gensim\n",
        "from gensim import corpora"
      ],
      "metadata": {
        "id": "zI4KI5zh_awN"
      },
      "execution_count": 18,
      "outputs": []
    },
    {
      "cell_type": "code",
      "source": [
        "tokenized_reviews = [word_tokenize(reviews) for reviews in df['clean_reviews']]"
      ],
      "metadata": {
        "id": "g2HqaPT9AQix"
      },
      "execution_count": 19,
      "outputs": []
    },
    {
      "cell_type": "code",
      "source": [
        "dictionary = corpora.Dictionary(tokenized_reviews)"
      ],
      "metadata": {
        "id": "G6pYmvArAd6P"
      },
      "execution_count": 20,
      "outputs": []
    },
    {
      "cell_type": "code",
      "source": [
        "corpus = [dictionary.doc2bow(reviews) for reviews in tokenized_reviews]"
      ],
      "metadata": {
        "id": "zg9XF-r2Aml3"
      },
      "execution_count": 21,
      "outputs": []
    },
    {
      "cell_type": "code",
      "source": [
        "#lda model\n",
        "lda_model = gensim.models.ldamodel.LdaModel(corpus = corpus, id2word=dictionary, num_topics=5, passes=10)"
      ],
      "metadata": {
        "id": "CC_e0bx1AwYf"
      },
      "execution_count": 22,
      "outputs": []
    },
    {
      "cell_type": "code",
      "source": [
        "for idx , topic in lda_model.print_topics():\n",
        "  print(f\"Token {idx}:{topic}\")"
      ],
      "metadata": {
        "colab": {
          "base_uri": "https://localhost:8080/"
        },
        "id": "W2W6RqA6BhCQ",
        "outputId": "c37bd4eb-06e7-4adc-b01d-cf0f111cfbb5"
      },
      "execution_count": 23,
      "outputs": [
        {
          "output_type": "stream",
          "name": "stdout",
          "text": [
            "Token 0:0.021*\"flight\" + 0.014*\"ba\" + 0.011*\"verified\" + 0.010*\"trip\" + 0.007*\"service\" + 0.007*\"crew\" + 0.006*\"one\" + 0.006*\"cabin\" + 0.006*\"airline\" + 0.006*\"time\"\n",
            "Token 1:0.023*\"flight\" + 0.016*\"trip\" + 0.015*\"verified\" + 0.015*\"ba\" + 0.014*\"time\" + 0.010*\"seat\" + 0.010*\"crew\" + 0.008*\"food\" + 0.008*\"service\" + 0.008*\"good\"\n",
            "Token 2:0.034*\"flight\" + 0.019*\"ba\" + 0.011*\"verified\" + 0.010*\"hour\" + 0.010*\"u\" + 0.010*\"trip\" + 0.009*\"customer\" + 0.009*\"service\" + 0.008*\"london\" + 0.008*\"british\"\n",
            "Token 3:0.021*\"flight\" + 0.019*\"seat\" + 0.014*\"ba\" + 0.013*\"verified\" + 0.012*\"service\" + 0.012*\"class\" + 0.011*\"trip\" + 0.011*\"good\" + 0.011*\"business\" + 0.010*\"food\"\n",
            "Token 4:0.025*\"flight\" + 0.020*\"seat\" + 0.012*\"verified\" + 0.010*\"trip\" + 0.007*\"service\" + 0.007*\"ba\" + 0.007*\"hour\" + 0.006*\"time\" + 0.006*\"airline\" + 0.006*\"class\"\n"
          ]
        }
      ]
    },
    {
      "cell_type": "code",
      "source": [
        "import matplotlib.pyplot as plt\n",
        "\n",
        "# Count the number of positive and negative reviews\n",
        "positive_reviews_count = df[df['sentiment_score'] > 0].shape[0]\n",
        "negative_reviews_count = df[df['sentiment_score'] < 0].shape[0]\n",
        "\n",
        "# Create a bar plot\n",
        "plt.bar(['Positive', 'Negative'], [positive_reviews_count, negative_reviews_count], color=['blue', 'grey'])\n",
        "plt.title('Distribution of Positive and Negative Reviews')\n",
        "plt.xlabel('Sentiment')\n",
        "plt.ylabel('Number of Reviews')\n",
        "plt.show()"
      ],
      "metadata": {
        "colab": {
          "base_uri": "https://localhost:8080/",
          "height": 472
        },
        "id": "iTAwWxIVMgBT",
        "outputId": "68a5530a-e18f-4bf8-fc0d-9995504c3316"
      },
      "execution_count": 25,
      "outputs": [
        {
          "output_type": "display_data",
          "data": {
            "text/plain": [
              "<Figure size 640x480 with 1 Axes>"
            ],
            "image/png": "[encoded data removed]"
          },
          "metadata": {}
        }
      ]
    },
    {
      "cell_type": "markdown",
      "source": [
        "The bar graph shows that the number of positive reviews are over 600, while there are around 350 negative reviews."
      ],
      "metadata": {
        "id": "yziHDmeccE0q"
      }
    },
    {
      "cell_type": "code",
      "source": [
        "total_reviews = df.shape[0]\n",
        "\n",
        "positive_reviews_percentage = (positive_reviews_count/ total_reviews) * 100\n",
        "negative_reviews_percentage = (negative_reviews_count/ total_reviews) * 100\n",
        "\n",
        "print(f\"Positive reviews: {positive_reviews_percentage: .2f}%\")\n",
        "print(f\"Negative reviews: {negative_reviews_percentage: .2f}%\")"
      ],
      "metadata": {
        "id": "nhpEsyLcNlVS",
        "colab": {
          "base_uri": "https://localhost:8080/"
        },
        "outputId": "95c7129c-6db0-4a97-894e-c4cf0f2787b9"
      },
      "execution_count": 26,
      "outputs": [
        {
          "output_type": "stream",
          "name": "stdout",
          "text": [
            "Positive reviews:  63.70%\n",
            "Negative reviews:  35.20%\n"
          ]
        }
      ]
    }
  ]
}